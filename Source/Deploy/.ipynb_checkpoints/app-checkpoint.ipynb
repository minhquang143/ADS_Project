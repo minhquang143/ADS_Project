{
 "cells": [
  {
   "cell_type": "code",
   "execution_count": 1,
   "id": "89548d08-bf38-432c-a99c-ffbb86926497",
   "metadata": {},
   "outputs": [],
   "source": [
    "import numpy as np\n",
    "from flask import Flask, request, render_template\n",
    "import pickle\n",
    "import warnings\n",
    "warnings.simplefilter('ignore')"
   ]
  },
  {
   "cell_type": "code",
   "execution_count": 2,
   "id": "eccc183d-f21b-48f7-8102-98defef0f477",
   "metadata": {},
   "outputs": [],
   "source": [
    "league = np.loadtxt('league.txt', dtype=str, delimiter=',')\n",
    "nation = np.loadtxt('nation.txt', dtype=str, delimiter=',')\n",
    "custom_order = ['GK', 'LWB', 'LB', 'CB', 'RB', 'RWB', 'CDM', 'CM', 'LM', 'RM', 'CAM', 'LW', 'RW', 'CF', 'ST']"
   ]
  },
  {
   "cell_type": "markdown",
   "id": "dc3375a2-5308-47c8-8b9f-b46cd1561c20",
   "metadata": {},
   "source": [
    "*Note: Normally there is no need to run file Deploy.ipynb because we have already run it to get file model.pkl. However, you should run file Deploy.ipynb because file model.pkl may be different for each device."
   ]
  },
  {
   "cell_type": "code",
   "execution_count": null,
   "id": "deda81de-e61d-4ed9-9441-03c670ea01b5",
   "metadata": {},
   "outputs": [
    {
     "name": "stdout",
     "output_type": "stream",
     "text": [
      " * Serving Flask app '__main__'\n",
      " * Debug mode: off\n"
     ]
    },
    {
     "name": "stderr",
     "output_type": "stream",
     "text": [
      "\u001b[31m\u001b[1mWARNING: This is a development server. Do not use it in a production deployment. Use a production WSGI server instead.\u001b[0m\n",
      " * Running on http://127.0.0.1:8080\n",
      "\u001b[33mPress CTRL+C to quit\u001b[0m\n",
      "127.0.0.1 - - [07/May/2025 03:11:42] \"GET / HTTP/1.1\" 200 -\n",
      "127.0.0.1 - - [07/May/2025 03:11:42] \"\u001b[33mGET /favicon.ico HTTP/1.1\u001b[0m\" 404 -\n",
      "127.0.0.1 - - [07/May/2025 03:15:45] \"POST /predict HTTP/1.1\" 200 -\n"
     ]
    }
   ],
   "source": [
    "# Create an app object using the Flask class. \n",
    "app = Flask(__name__)\n",
    "\n",
    "# Load the trained model. (Pickle file)\n",
    "model = pickle.load(open('model.pkl', 'rb'))\n",
    "\n",
    "# Use the route() decorator to tell Flask what URL should trigger our function.\n",
    "@app.route('/')\n",
    "def home():\n",
    "    return render_template('index.html', league = league, nation = nation, position = custom_order)\n",
    "\n",
    "@app.route('/predict',methods=['POST'])\n",
    "def predict():\n",
    "    all_features = [str(x) for x in request.form.values()]\n",
    "    number_features = all_features[:12]\n",
    "    features = [float(x) for x in number_features]\n",
    "    temp = all_features.copy()\n",
    "    for i in league:\n",
    "        if i == all_features[12]:\n",
    "            features.append(1)\n",
    "        else:\n",
    "            features.append(0)\n",
    "    for i in nation:\n",
    "        if i == all_features[13]:\n",
    "            features.append(1)\n",
    "        else:\n",
    "            features.append(0)\n",
    "    for i in custom_order:\n",
    "        if np.isin(i, all_features[14:]):\n",
    "            features.append(1)\n",
    "        else:\n",
    "            features.append(0)\n",
    "    features = [features]\n",
    "    prediction = model.predict(features)\n",
    "    output = round(prediction[0], 2)\n",
    "    return render_template('index.html', prediction_text='Price is {}'.format(output), league = league, nation = nation, position = custom_order, data = temp)\n",
    "\n",
    "if __name__ == \"__main__\":\n",
    "    app.run(port=8080)"
   ]
  }
 ],
 "metadata": {
  "kernelspec": {
   "display_name": "Python 3 (ipykernel)",
   "language": "python",
   "name": "python3"
  },
  "language_info": {
   "codemirror_mode": {
    "name": "ipython",
    "version": 3
   },
   "file_extension": ".py",
   "mimetype": "text/x-python",
   "name": "python",
   "nbconvert_exporter": "python",
   "pygments_lexer": "ipython3",
   "version": "3.11.7"
  }
 },
 "nbformat": 4,
 "nbformat_minor": 5
}
